{
 "cells": [
  {
   "cell_type": "code",
   "execution_count": null,
   "id": "2e639e51-b5cf-4259-be37-a58776799912",
   "metadata": {},
   "outputs": [],
   "source": [
    "import numpy as np\n",
    "import pandas as pd\n",
    "import os\n",
    "import base_functions as bf\n",
    "import pickle\n",
    "from sklearn import svm\n",
    "from sklearn.model_selection import RepeatedStratifiedKFold, GridSearchCV\n",
    "from sklearn import metrics\n",
    "\n",
    "from nilearn import connectome, plotting\n",
    "import matplotlib.pyplot as plt\n",
    "%matplotlib inline"
   ]
  },
  {
   "cell_type": "code",
   "execution_count": null,
   "id": "99671e57-f2e6-4fd2-8036-02ceba4849e2",
   "metadata": {},
   "outputs": [],
   "source": [
    "dtfile = './data/dataset1_connectivity.pkl'\n",
    "D = pickle.load(open(dtfile, 'rb'))\n",
    "all_session_subjects = D['all_session_subjects']\n",
    "all_session_conn_vec = D['all_session_conn_vec']\n",
    "all_session = D['all_session']\n",
    "info_DF = D['info_DF']"
   ]
  },
  {
   "cell_type": "code",
   "execution_count": null,
   "id": "405737a8-9a66-48b5-b5e4-26d005f4cb11",
   "metadata": {},
   "outputs": [],
   "source": [
    "## can change settings here to get feature patterns for partial sleep or after recovery sleep \n",
    "care_sess = 0 # focus on the first session, i.e., morning after sleep manipulation\n",
    "dep_labels = bf.get_subject_info(info_DF, all_session_subjects[care_sess], ['deprive_labels'])\n",
    "# dep_labels: 0->normal sleep; 1->partial sleep deprivation; 2->sleep deprivation\n",
    "idx = np.logical_or(dep_labels==0, dep_labels==2)\n",
    "X = all_session_conn_vec[care_sess][idx]\n",
    "X = np.arctanh(X) #Fisher r to z\n",
    "X[np.isnan(X)] = 0\n",
    "Y = dep_labels[idx]\n",
    "Y[Y==Y.min()] = 0\n",
    "Y[Y!=Y.min()] = 1\n",
    "subjects = all_session_subjects[care_sess]\n",
    "subjects = [subjects[i] for i,v in enumerate(idx) if v==True]"
   ]
  },
  {
   "cell_type": "code",
   "execution_count": null,
   "id": "fea347ef-059b-4ab4-8f4e-a9c62bc6c8e6",
   "metadata": {},
   "outputs": [],
   "source": [
    "from sklearn.utils import resample\n",
    "D = pickle.load(open('./data/trained_model.pkl', 'rb'))\n",
    "trained_clf = D['trained_clf']\n",
    "patterns = D['patterns']\n",
    "best_C = trained_clf.C"
   ]
  },
  {
   "cell_type": "code",
   "execution_count": null,
   "id": "53d0d142-f0c3-4336-ad60-2dc10c0f6717",
   "metadata": {},
   "outputs": [],
   "source": [
    "## bootstrap analysis\n",
    "\n",
    "boot_num = 1000\n",
    "all_boot_coef_vals = []\n",
    "all_boot_patterns = []\n",
    "for ibt in range(boot_num):\n",
    "    print(ibt)\n",
    "    bX, bY = resample(X, Y, replace=True, stratify=Y)\n",
    "    \n",
    "    # parameters = {'C':np.linspace(0.00001,10000,20)}\n",
    "    # clf = GridSearchCV(svm.SVC(kernel='linear', probability=False), parameters, n_jobs=-1)\n",
    "    clf = svm.SVC(kernel='linear', probability=False, C=best_C)\n",
    "    clf.fit(bX, bY)\n",
    "    coef_vals = clf.coef_\n",
    "    patterns = bf.weight_transform(bX, coef_vals)\n",
    "    all_boot_coef_vals.append(coef_vals)\n",
    "    all_boot_patterns.append(patterns)\n",
    "    pickle.dump({'all_boot_coef_vals':all_boot_coef_vals,\n",
    "                 'all_boot_patterns':all_boot_patterns,\n",
    "                 },\n",
    "                 open('./data/Bootstrap1000_parameters.pkl', 'wb'))"
   ]
  },
  {
   "cell_type": "code",
   "execution_count": null,
   "id": "96e13952-5592-4ee5-b319-79ca858fa922",
   "metadata": {},
   "outputs": [],
   "source": [
    "# estimate p values\n",
    "from statsmodels.stats.multitest import multipletests\n",
    "\n",
    "mpattern = np.mean(all_boot_patterns, axis=0, keepdims=True)\n",
    "vpattern = np.std(all_boot_patterns, axis=0, keepdims=True)\n",
    "boot_zvals = mpattern / vpattern\n",
    "boot_zvals = boot_zvals.reshape(-1)\n",
    "\n",
    "pvals = stats.norm.sf(np.abs(boot_zvals))*2\n",
    "H, pvals_fdr, _, _ = multipletests(pvals, alpha=0.05, method='fdr_bh')\n",
    "pvals_fdr[pvals_fdr<0.05].shape"
   ]
  },
  {
   "cell_type": "code",
   "execution_count": null,
   "id": "449337d2-88ee-4b40-822f-a580e96556ab",
   "metadata": {},
   "outputs": [],
   "source": [
    "pickle.dump({'boot_zvals':boot_zvals,\n",
    "             'pvals':pvals,\n",
    "             'pvals_fdr':pvals_fdr,\n",
    "             'boot_patterns':mpattern.reshape(-1),\n",
    "             'patterns':patterns.reshape(-1)},\n",
    "             open('./data/D1Morning_sig_patterns.pkl', 'wb'))"
   ]
  }
 ],
 "metadata": {
  "kernelspec": {
   "display_name": "sleep",
   "language": "python",
   "name": "sleep"
  },
  "language_info": {
   "codemirror_mode": {
    "name": "ipython",
    "version": 3
   },
   "file_extension": ".py",
   "mimetype": "text/x-python",
   "name": "python",
   "nbconvert_exporter": "python",
   "pygments_lexer": "ipython3",
   "version": "3.9.18"
  }
 },
 "nbformat": 4,
 "nbformat_minor": 5
}
