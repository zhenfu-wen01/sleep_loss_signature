{
 "cells": [
  {
   "cell_type": "code",
   "execution_count": null,
   "id": "f8e73921-500b-4459-bd3f-a65d1e889d29",
   "metadata": {},
   "outputs": [],
   "source": [
    "import numpy as np\n",
    "import pandas as pd\n",
    "import os\n",
    "import base_functions as bf\n",
    "import pickle\n",
    "from sklearn import svm\n",
    "from sklearn.model_selection import RepeatedStratifiedKFold, GridSearchCV\n",
    "from sklearn import metrics\n",
    "\n",
    "from nilearn import connectome, plotting\n",
    "import matplotlib.pyplot as plt\n",
    "%matplotlib inline"
   ]
  },
  {
   "cell_type": "code",
   "execution_count": null,
   "id": "b811d9e6-1ad4-4d90-851d-1812c1d433d0",
   "metadata": {},
   "outputs": [],
   "source": []
  },
  {
   "cell_type": "code",
   "execution_count": null,
   "id": "1db0d617-a5d0-4778-85ff-a08941c0f40f",
   "metadata": {},
   "outputs": [],
   "source": [
    "dtfile = './data/dataset1_connectivity.pkl'\n",
    "D = pickle.load(open(dtfile, 'rb'))\n",
    "all_session_subjects = D['all_session_subjects']\n",
    "all_session_conn_vec = D['all_session_conn_vec']\n",
    "all_session = D['all_session']\n",
    "info_DF = D['info_DF']"
   ]
  },
  {
   "cell_type": "code",
   "execution_count": null,
   "id": "80508531-f903-49d1-9151-5d7828d2000f",
   "metadata": {},
   "outputs": [],
   "source": [
    "care_sess = 0 # focus on the first session, i.e., morning after sleep manipulation\n",
    "dep_labels = bf.get_subject_info(info_DF, all_session_subjects[care_sess], ['deprive_labels'])\n",
    "# dep_labels: 0->normal sleep; 1->partial sleep deprivation; 2->sleep deprivation\n",
    "idx = np.logical_or(dep_labels==0, dep_labels==2)\n",
    "X = all_session_conn_vec[care_sess][idx]\n",
    "X = np.arctanh(X) #Fisher r to z\n",
    "X[np.isnan(X)] = 0\n",
    "Y = dep_labels[idx]\n",
    "Y[Y==Y.min()] = 0\n",
    "Y[Y!=Y.min()] = 1\n",
    "subjects = all_session_subjects[care_sess]\n",
    "subjects = [subjects[i] for i,v in enumerate(idx) if v==True]"
   ]
  },
  {
   "cell_type": "code",
   "execution_count": null,
   "id": "282a137f-1496-47b4-905d-51e8a2e8e70b",
   "metadata": {},
   "outputs": [],
   "source": [
    "rep_num = 10 # repreat cross validation for multiple times\n",
    "\n",
    "all_scores = np.zeros(rep_num)\n",
    "all_predict_prob = np.zeros((X.shape[0],rep_num))\n",
    "all_test_index = []\n",
    "for irep in range(rep_num):\n",
    "    print(irep)\n",
    "    cvg = RepeatedStratifiedKFold(n_splits=10, n_repeats=1, random_state=irep)\n",
    "    \n",
    "    cv_prob_pred = np.zeros_like(Y)\n",
    "    test_index = []\n",
    "    # cross validation\n",
    "    for tridx, tsidx in cvg.split(X, Y):\n",
    "        trX, trY = X[tridx], Y[tridx]\n",
    "        tsX, tsY = X[tsidx], Y[tsidx]\n",
    "        parameters = {'C':np.linspace(0.00001,10000,20)}\n",
    "        clf = GridSearchCV(svm.SVC(kernel='linear', probability=True), parameters, n_jobs=-1)\n",
    "\n",
    "        clf.fit(trX, trY)\n",
    "        prob_pred = clf.decision_function(tsX)\n",
    "        cv_prob_pred[tsidx] = prob_pred\n",
    "        test_index.append(tsidx)\n",
    "    sc = metrics.roc_auc_score(Y, cv_prob_pred)\n",
    "\n",
    "    all_predict_prob.append(cv_prob_pred)\n",
    "    all_test_index.append(test_index)\n",
    "    all_scores.append(sc)\n",
    "\n",
    "pickle.dump({'all_predict_prob':all_predict_prob,\n",
    "             'all_scores':all_scores,\n",
    "             'all_test_index':all_test_index,\n",
    "             'subjects':subjects,\n",
    "             'Y':Y,},\n",
    "             open(f'./results/accuracy_10-10CV_D1Morning.pkl', 'wb'))"
   ]
  },
  {
   "cell_type": "code",
   "execution_count": null,
   "id": "78052670-0ae7-4bfc-b6b0-b4a9209482db",
   "metadata": {},
   "outputs": [],
   "source": [
    "## Train model for generalization\n",
    "parameters = {'C':np.linspace(0.00001,10000,20)}\n",
    "clf = GridSearchCV(svm.SVC(kernel='linear', probability=True), parameters, n_jobs=-1)\n",
    "\n",
    "\n",
    "clf.fit(X, Y)\n",
    "coef_vals = clf.best_estimator_.coef_\n",
    "patterns = bf.weight_transform(X, coef_vals)\n",
    "\n",
    "\n",
    "pickle.dump({'clf':clf.best_estimator_,\n",
    "             'patterns':patterns,\n",
    "             'coef_vals':coef_vals,\n",
    "             'subjects':subjects},\n",
    "             open('./Discovery_data_trained_model.pkl', 'wb'))"
   ]
  }
 ],
 "metadata": {
  "kernelspec": {
   "display_name": "sleep",
   "language": "python",
   "name": "sleep"
  },
  "language_info": {
   "codemirror_mode": {
    "name": "ipython",
    "version": 3
   },
   "file_extension": ".py",
   "mimetype": "text/x-python",
   "name": "python",
   "nbconvert_exporter": "python",
   "pygments_lexer": "ipython3",
   "version": "3.9.18"
  }
 },
 "nbformat": 4,
 "nbformat_minor": 5
}
